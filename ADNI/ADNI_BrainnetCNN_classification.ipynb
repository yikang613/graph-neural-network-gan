{
  "nbformat": 4,
  "nbformat_minor": 0,
  "metadata": {
    "colab": {
      "name": "ADNI_BrainnetCNN_classification.ipynb",
      "provenance": []
    },
    "kernelspec": {
      "name": "python3",
      "display_name": "Python 3"
    },
    "language_info": {
      "name": "python"
    },
    "accelerator": "GPU",
    "gpuClass": "standard"
  },
  "cells": [
    {
      "cell_type": "code",
      "execution_count": 1,
      "metadata": {
        "colab": {
          "base_uri": "https://localhost:8080/"
        },
        "id": "ELOMalfAqZ5m",
        "outputId": "ab81f430-b104-4202-b38d-553ae05b4ea0"
      },
      "outputs": [
        {
          "output_type": "stream",
          "name": "stdout",
          "text": [
            "Mounted at /content/drive\n"
          ]
        }
      ],
      "source": [
        "import torch\n",
        "from torch import nn\n",
        "from tqdm.auto import tqdm\n",
        "from torchvision import transforms\n",
        "from torchvision.datasets import MNIST\n",
        "from torchvision.utils import make_grid\n",
        "from torch.utils.data import DataLoader\n",
        "import matplotlib.pyplot as plt\n",
        "torch.manual_seed(0) \n",
        "\n",
        "import pandas as pd\n",
        "import random\n",
        "device = torch.device('cuda:0' if torch.cuda.is_available() else 'cpu')\n",
        "\n",
        "import os\n",
        "\n",
        "import numpy as np\n",
        "import torch.nn.functional as F\n",
        "\n",
        "from google.colab import drive\n",
        "drive.mount('/content/drive')\n",
        "\n",
        "from sklearn.metrics import accuracy_score\n",
        "from datetime import datetime\n",
        "from IPython.display import clear_output "
      ]
    },
    {
      "cell_type": "code",
      "source": [
        "import os\n",
        "import torch\n",
        "os.environ['TORCH'] = torch.__version__\n",
        "print(torch.__version__)\n",
        "\n",
        "!pip install -q torch-scatter -f https://data.pyg.org/whl/torch-${TORCH}.html\n",
        "!pip install -q torch-sparse -f https://data.pyg.org/whl/torch-${TORCH}.html\n",
        "!pip install -q torch-cluster -f https://data.pyg.org/whl/torch-${TORCH}.html\n",
        "!pip install -q git+https://github.com/pyg-team/pytorch_geometric.git"
      ],
      "metadata": {
        "colab": {
          "base_uri": "https://localhost:8080/"
        },
        "id": "4UhOf2M5r0O0",
        "outputId": "651398bd-8941-43d8-ab74-a2fdea378916"
      },
      "execution_count": 2,
      "outputs": [
        {
          "output_type": "stream",
          "name": "stdout",
          "text": [
            "1.12.1+cu113\n",
            "\u001b[K     |████████████████████████████████| 7.9 MB 5.4 MB/s \n",
            "\u001b[K     |████████████████████████████████| 3.5 MB 4.3 MB/s \n",
            "\u001b[K     |████████████████████████████████| 2.4 MB 1.3 MB/s \n",
            "\u001b[?25h  Building wheel for torch-geometric (setup.py) ... \u001b[?25l\u001b[?25hdone\n"
          ]
        }
      ]
    },
    {
      "cell_type": "code",
      "source": [
        "train_dataset=[]\n",
        "graphlist=[]\n",
        "import networkx as nx\n",
        "import torch_geometric\n",
        "from torch_geometric.data import Data, Dataset\n",
        "from torch_geometric.loader import DataLoader\n",
        "#from torch.utils.data import DataLoader\n",
        "from torch_geometric.utils import degree\n",
        "from torch_geometric.utils import erdos_renyi_graph, to_networkx, from_networkx\n",
        "\n",
        "\n",
        "\n",
        "\n",
        "\n",
        "%cd /content/drive/MyDrive/ADNI2/Controls\n",
        "for i in range(1, 110):\n",
        "    if os.path.isfile('{0:0>3}'.format(i)+'.txt'):\n",
        "      tmp=pd.read_csv('{0:0>3}'.format(i)+'.txt', header=None)\n",
        "      tmp=(tmp.to_numpy())\n",
        "      tmp=torch.from_numpy(tmp)  \n",
        "      tmp[tmp<=0.4]=0\n",
        "      graphlist.append([tmp.type(torch.FloatTensor),torch.ones(1).type(torch.long)])\n",
        "\n",
        "%cd /content/drive/MyDrive/ADNI2/Patients\n",
        "for i in range(1, 110):\n",
        "    if os.path.isfile('{0:0>3}'.format(i)+'.txt'):\n",
        "      tmp=pd.read_csv('{0:0>3}'.format(i)+'.txt', header=None)\n",
        "      tmp=(tmp.to_numpy())\n",
        "      tmp=torch.from_numpy(tmp) \n",
        "      tmp[tmp<=0.4]=0\n",
        "      graphlist.append([tmp.type(torch.FloatTensor),torch.zeros(1).type(torch.long)])"
      ],
      "metadata": {
        "colab": {
          "base_uri": "https://localhost:8080/"
        },
        "id": "NwwaaCjEr1Rk",
        "outputId": "653a848c-3281-436a-dad5-504f3e3957e5"
      },
      "execution_count": 3,
      "outputs": [
        {
          "output_type": "stream",
          "name": "stdout",
          "text": [
            "/content/drive/.shortcut-targets-by-id/1n9P-S3rsi_g9yeb5KW1h7v-Bte7Cy43G/ADNI2/Controls\n",
            "/content/drive/.shortcut-targets-by-id/1n9P-S3rsi_g9yeb5KW1h7v-Bte7Cy43G/ADNI2/Patients\n"
          ]
        }
      ]
    },
    {
      "cell_type": "code",
      "source": [
        "dataset = random.sample(graphlist, len(graphlist))\n",
        "train_dataset = dataset[:150]\n",
        "test_dataset = dataset[150:]\n",
        "train_loader = DataLoader(train_dataset, batch_size=25, shuffle=True)\n",
        "test_loader = DataLoader(test_dataset, batch_size=25, shuffle=False)"
      ],
      "metadata": {
        "id": "0fZYtSWgtQEk"
      },
      "execution_count": 4,
      "outputs": []
    },
    {
      "cell_type": "code",
      "source": [
        "class E2EBlock(torch.nn.Module):\n",
        "    def __init__(self, in_planes, planes,bias=True):\n",
        "        super(E2EBlock, self).__init__()\n",
        "        self.d = 90\n",
        "        self.cnn1 = torch.nn.Conv2d(in_planes,planes,(1,self.d),bias=bias)\n",
        "        self.cnn2 = torch.nn.Conv2d(in_planes,planes,(self.d,1),bias=bias)       \n",
        "    def forward(self, x):\n",
        "        a = self.cnn1(x)\n",
        "        b = self.cnn2(x)\n",
        "        return torch.cat([a]*self.d,3)+torch.cat([b]*self.d,2)\n",
        "\n",
        "class Brainnet(torch.nn.Module):\n",
        "    def __init__(self):\n",
        "        super(Brainnet, self).__init__()\n",
        "        self.d = 90\n",
        "        self.e2econv1 = E2EBlock(1,32)   ######### Changed input channel from 1 to 3\n",
        "        self.e2econv2 = E2EBlock(32,64)\n",
        "        self.E2N = torch.nn.Conv2d(64,1,(1,self.d))\n",
        "        self.N2G = torch.nn.Conv2d(1,256,(self.d,1))\n",
        "        self.dense1 = torch.nn.Linear(256,128)\n",
        "        self.dense2 = torch.nn.Linear(128,30)\n",
        "        self.aux = torch.nn.Linear(30,1)\n",
        "      \n",
        "    def forward(self, x):\n",
        "        out = F.leaky_relu(self.e2econv1(x),negative_slope=0.33)\n",
        "        out = F.leaky_relu(self.e2econv2(out),negative_slope=0.33) \n",
        "        out = F.leaky_relu(self.E2N(out),negative_slope=0.33)\n",
        "        out = F.leaky_relu(self.N2G(out),negative_slope=0.33)\n",
        "        out = out.view(out.size(0), -1)\n",
        "        out = F.leaky_relu(self.dense1(out),negative_slope=0.33)\n",
        "        out = F.leaky_relu(self.dense2(out),negative_slope=0.33)\n",
        "        classes = self.aux(out) \n",
        "        return classes"
      ],
      "metadata": {
        "id": "YWad-ITKtSPd"
      },
      "execution_count": 5,
      "outputs": []
    },
    {
      "cell_type": "code",
      "source": [
        "from IPython.display import Javascript\n",
        "display(Javascript('''google.colab.output.setIframeHeight(0, true, {maxHeight: 300})'''))\n",
        "sig=torch.nn.Sigmoid()\n",
        "device = torch.device('cuda' if torch.cuda.is_available() else 'cpu')\n",
        "model = Brainnet().to(device)\n",
        "optimizer = torch.optim.Adam(model.parameters(), lr=0.001)\n",
        "criterion = torch.nn.BCEWithLogitsLoss()\n",
        "correct = 0\n",
        "\n",
        "def test(loader):\n",
        "     model.eval()\n",
        "\n",
        "     correct = 0\n",
        "     for data, label in loader:  # Iterate in batches over the training/test dataset.\n",
        "         label_classes = label.type(torch.float).cuda() \n",
        "         cur_batch_size = torch.tensor(len(data)).to(device)\n",
        "         data = data.view(cur_batch_size, -1).to(device)\n",
        "         data = data.view(cur_batch_size, 1, 90, 90)\n",
        "         out = model(data.to(device))  \n",
        "         pred = sig(out)>0.5  # Use the class with highest probability.\n",
        "         #print(out.size())\n",
        "         #print(int((pred == data.y).sum()))\n",
        "         #print(label_classes.size(), \"label\")\n",
        "         #print(pred.size(), \"pred\")\n",
        "         label_classes = label_classes.view(-1)\n",
        "         correct += int((pred.view(-1) == label_classes).sum())\n",
        "         #print(correct)  # Check against ground-truth labels.\n",
        "     return correct / len(loader.dataset)  # Derive ratio of correct predictions.\n",
        "\n",
        "\n",
        "for epoch in range(1, 30):\n",
        "    model.train()\n",
        "\n",
        "    for data, label in train_loader:  # Iterate in batches over the training dataset.\n",
        "         label_classes = label.type(torch.float).cuda() \n",
        "         cur_batch_size = torch.tensor(len(data)).to(device)\n",
        "         data = data.view(cur_batch_size, -1).to(device)\n",
        "         data = data.view(cur_batch_size, 1, 90, 90)\n",
        "         out = model(data.cuda())\n",
        "         out = out.view(-1)\n",
        "         label = label.view(-1).cuda()\n",
        "         #print(label.size(), \"label\")\n",
        "         loss = criterion(out, label.float())  # Compute the loss.\n",
        "         loss.backward()  # Derive gradients.\n",
        "         optimizer.step()  # Update parameters based on gradients.\n",
        "         optimizer.zero_grad()  # Clear gradients.\n",
        "\n",
        "    train_acc = test(train_loader)\n",
        "    test_acc = test(test_loader)\n",
        "    print(f'Epoch: {epoch:03d}, Train Acc: {train_acc:.4f}, Test Acc: {test_acc:.4f}, Loss: {loss:.4f}')"
      ],
      "metadata": {
        "colab": {
          "base_uri": "https://localhost:8080/",
          "height": 300
        },
        "id": "N8n_7mI3te7-",
        "outputId": "904c124c-6986-4863-fcb6-80480ee09567"
      },
      "execution_count": 6,
      "outputs": [
        {
          "output_type": "display_data",
          "data": {
            "text/plain": [
              "<IPython.core.display.Javascript object>"
            ],
            "application/javascript": [
              "google.colab.output.setIframeHeight(0, true, {maxHeight: 300})"
            ]
          },
          "metadata": {}
        },
        {
          "output_type": "stream",
          "name": "stdout",
          "text": [
            "Epoch: 001, Train Acc: 0.4933, Test Acc: 0.5147, Loss: 0.6924\n",
            "Epoch: 002, Train Acc: 0.9133, Test Acc: 0.9706, Loss: 0.5660\n",
            "Epoch: 003, Train Acc: 0.8733, Test Acc: 0.9412, Loss: 1.1957\n",
            "Epoch: 004, Train Acc: 0.9400, Test Acc: 0.8676, Loss: 0.3784\n",
            "Epoch: 005, Train Acc: 0.9667, Test Acc: 1.0000, Loss: 0.1060\n",
            "Epoch: 006, Train Acc: 0.9800, Test Acc: 0.8971, Loss: 0.1669\n",
            "Epoch: 007, Train Acc: 0.9867, Test Acc: 0.9853, Loss: 0.2536\n",
            "Epoch: 008, Train Acc: 0.9933, Test Acc: 0.9118, Loss: 0.1066\n",
            "Epoch: 009, Train Acc: 1.0000, Test Acc: 0.9412, Loss: 0.0145\n",
            "Epoch: 010, Train Acc: 1.0000, Test Acc: 0.9706, Loss: 0.0008\n",
            "Epoch: 011, Train Acc: 1.0000, Test Acc: 0.9706, Loss: 0.0010\n",
            "Epoch: 012, Train Acc: 1.0000, Test Acc: 0.9265, Loss: 0.0017\n",
            "Epoch: 013, Train Acc: 1.0000, Test Acc: 0.9265, Loss: 0.0018\n",
            "Epoch: 014, Train Acc: 1.0000, Test Acc: 0.9265, Loss: 0.0003\n",
            "Epoch: 015, Train Acc: 1.0000, Test Acc: 0.9559, Loss: 0.0003\n",
            "Epoch: 016, Train Acc: 1.0000, Test Acc: 0.9853, Loss: 0.0000\n",
            "Epoch: 017, Train Acc: 1.0000, Test Acc: 0.9853, Loss: 0.0000\n",
            "Epoch: 018, Train Acc: 1.0000, Test Acc: 0.9853, Loss: 0.0000\n",
            "Epoch: 019, Train Acc: 1.0000, Test Acc: 0.9853, Loss: 0.0000\n",
            "Epoch: 020, Train Acc: 1.0000, Test Acc: 0.9853, Loss: 0.0000\n",
            "Epoch: 021, Train Acc: 1.0000, Test Acc: 0.9853, Loss: 0.0001\n",
            "Epoch: 022, Train Acc: 1.0000, Test Acc: 0.9853, Loss: 0.0001\n",
            "Epoch: 023, Train Acc: 1.0000, Test Acc: 0.9853, Loss: 0.0000\n",
            "Epoch: 024, Train Acc: 1.0000, Test Acc: 0.9853, Loss: 0.0000\n",
            "Epoch: 025, Train Acc: 1.0000, Test Acc: 0.9853, Loss: 0.0000\n",
            "Epoch: 026, Train Acc: 1.0000, Test Acc: 0.9853, Loss: 0.0000\n",
            "Epoch: 027, Train Acc: 1.0000, Test Acc: 0.9853, Loss: 0.0000\n",
            "Epoch: 028, Train Acc: 1.0000, Test Acc: 0.9853, Loss: 0.0000\n",
            "Epoch: 029, Train Acc: 1.0000, Test Acc: 0.9853, Loss: 0.0000\n"
          ]
        }
      ]
    },
    {
      "cell_type": "code",
      "source": [
        ""
      ],
      "metadata": {
        "id": "Rn0gBM3Dtika"
      },
      "execution_count": 6,
      "outputs": []
    }
  ]
}