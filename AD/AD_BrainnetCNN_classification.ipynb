{
  "nbformat": 4,
  "nbformat_minor": 0,
  "metadata": {
    "colab": {
      "name": "AD_BrainnetCNN_classification.ipynb",
      "provenance": [],
      "collapsed_sections": []
    },
    "kernelspec": {
      "name": "python3",
      "display_name": "Python 3"
    },
    "language_info": {
      "name": "python"
    },
    "accelerator": "GPU",
    "gpuClass": "standard"
  },
  "cells": [
    {
      "cell_type": "code",
      "execution_count": 2,
      "metadata": {
        "colab": {
          "base_uri": "https://localhost:8080/"
        },
        "id": "ELOMalfAqZ5m",
        "outputId": "a0f2891f-f634-4a8c-a6ef-1d14d042fb68"
      },
      "outputs": [
        {
          "output_type": "stream",
          "name": "stdout",
          "text": [
            "Mounted at /content/drive\n"
          ]
        }
      ],
      "source": [
        "import torch\n",
        "from torch import nn\n",
        "from tqdm.auto import tqdm\n",
        "from torchvision import transforms\n",
        "from torchvision.datasets import MNIST\n",
        "from torchvision.utils import make_grid\n",
        "from torch.utils.data import DataLoader\n",
        "import matplotlib.pyplot as plt\n",
        "torch.manual_seed(0) \n",
        "\n",
        "import pandas as pd\n",
        "import random\n",
        "device = torch.device('cuda:0' if torch.cuda.is_available() else 'cpu')\n",
        "\n",
        "import os\n",
        "\n",
        "import numpy as np\n",
        "import torch.nn.functional as F\n",
        "\n",
        "from google.colab import drive\n",
        "drive.mount('/content/drive')\n",
        "\n",
        "from sklearn.metrics import accuracy_score\n",
        "from datetime import datetime\n",
        "from IPython.display import clear_output "
      ]
    },
    {
      "cell_type": "code",
      "source": [
        "\n",
        "train_dataset=[]\n",
        "graphlist=[]\n",
        "#from torch.utils.data import DataLoader\n",
        "#%cd /content/drive/MyDrive/GNN_DATA/ADNI/ALL_NETWORKS\n",
        "%cd /content/drive/MyDrive/ALL_NETWORKS\n",
        "\n",
        "for i in range(1, 110):\n",
        "    if os.path.isfile('AD_'+'{0:0>3}'.format(i)+'.csv'):\n",
        "      tmp=pd.read_csv('AD_'+'{0:0>3}'.format(i)+'.csv', header=None)\n",
        "      tmp=(tmp.to_numpy())\n",
        "      tmp=torch.from_numpy(tmp)  \n",
        "      tmp=torch.div(tmp,tmp.max())\n",
        "      graphlist.append([tmp.type(torch.FloatTensor),torch.ones(1).type(torch.long)])\n",
        "\n",
        "for i in range(1, 110):\n",
        "    if os.path.isfile('CN_'+'{0:0>3}'.format(i)+'.csv'):\n",
        "      tmp=pd.read_csv('CN_'+'{0:0>3}'.format(i)+'.csv', header=None)\n",
        "      tmp=(tmp.to_numpy())\n",
        "      tmp=torch.from_numpy(tmp) \n",
        "      tmp=torch.div(tmp, tmp.max())\n",
        "      #print([tmp.type(torch.FloatTensor),torch.ones(1).type(torch.long)])\n",
        "      graphlist.append([tmp.type(torch.FloatTensor),torch.zeros(1).type(torch.long)])"
      ],
      "metadata": {
        "colab": {
          "base_uri": "https://localhost:8080/"
        },
        "id": "NwwaaCjEr1Rk",
        "outputId": "0dfefdff-8f98-4049-aa2b-031cc2f77deb"
      },
      "execution_count": 4,
      "outputs": [
        {
          "output_type": "stream",
          "name": "stdout",
          "text": [
            "/content/drive/.shortcut-targets-by-id/10M6M6of9sCS0_CWq5d9EF6LhBCK9klNf/ALL_NETWORKS\n"
          ]
        }
      ]
    },
    {
      "cell_type": "code",
      "source": [
        "dataset = random.sample(graphlist, len(graphlist))\n",
        "train_dataset = dataset[:150]\n",
        "test_dataset = dataset[150:]\n",
        "train_loader = DataLoader(train_dataset, batch_size=25, shuffle=True)\n",
        "test_loader = DataLoader(test_dataset, batch_size=25, shuffle=False)"
      ],
      "metadata": {
        "id": "0fZYtSWgtQEk"
      },
      "execution_count": 5,
      "outputs": []
    },
    {
      "cell_type": "code",
      "source": [
        "class E2EBlock(torch.nn.Module):\n",
        "    def __init__(self, in_planes, planes,bias=True):\n",
        "        super(E2EBlock, self).__init__()\n",
        "        self.d = 90\n",
        "        self.cnn1 = torch.nn.Conv2d(in_planes,planes,(1,self.d),bias=bias)\n",
        "        self.cnn2 = torch.nn.Conv2d(in_planes,planes,(self.d,1),bias=bias)       \n",
        "    def forward(self, x):\n",
        "        a = self.cnn1(x)\n",
        "        b = self.cnn2(x)\n",
        "        return torch.cat([a]*self.d,3)+torch.cat([b]*self.d,2)\n",
        "\n",
        "class Brainnet(torch.nn.Module):\n",
        "    def __init__(self):\n",
        "        super(Brainnet, self).__init__()\n",
        "        self.d = 90\n",
        "        self.e2econv1 = E2EBlock(1,32)   ######### Changed input channel from 1 to 3\n",
        "        self.e2econv2 = E2EBlock(32,64)\n",
        "        self.E2N = torch.nn.Conv2d(64,1,(1,self.d))\n",
        "        self.N2G = torch.nn.Conv2d(1,256,(self.d,1))\n",
        "        self.dense1 = torch.nn.Linear(256,128)\n",
        "        self.dense2 = torch.nn.Linear(128,30)\n",
        "        self.aux = torch.nn.Linear(30,1)\n",
        "      \n",
        "    def forward(self, x):\n",
        "        out = F.leaky_relu(self.e2econv1(x),negative_slope=0.33)\n",
        "        out = F.leaky_relu(self.e2econv2(out),negative_slope=0.33) \n",
        "        out = F.leaky_relu(self.E2N(out),negative_slope=0.33)\n",
        "        out = F.leaky_relu(self.N2G(out),negative_slope=0.33)\n",
        "        out = out.view(out.size(0), -1)\n",
        "        out = F.leaky_relu(self.dense1(out),negative_slope=0.33)\n",
        "        out = F.leaky_relu(self.dense2(out),negative_slope=0.33)\n",
        "        classes = self.aux(out) \n",
        "        return classes"
      ],
      "metadata": {
        "id": "YWad-ITKtSPd"
      },
      "execution_count": 6,
      "outputs": []
    },
    {
      "cell_type": "code",
      "source": [
        "from IPython.display import Javascript\n",
        "display(Javascript('''google.colab.output.setIframeHeight(0, true, {maxHeight: 300})'''))\n",
        "sig=torch.nn.Sigmoid()\n",
        "device = torch.device('cuda' if torch.cuda.is_available() else 'cpu')\n",
        "model = Brainnet().to(device)\n",
        "optimizer = torch.optim.Adam(model.parameters(), lr=0.001)\n",
        "criterion = torch.nn.BCEWithLogitsLoss()\n",
        "correct = 0\n",
        "\n",
        "def test(loader):\n",
        "     model.eval()\n",
        "\n",
        "     correct = 0\n",
        "     for data, label in loader:  # Iterate in batches over the training/test dataset.\n",
        "         label_classes = label.type(torch.float).cuda() \n",
        "         cur_batch_size = torch.tensor(len(data)).to(device)\n",
        "         data = data.view(cur_batch_size, -1).to(device)\n",
        "         data = data.view(cur_batch_size, 1, 90, 90)\n",
        "         out = model(data.to(device))  \n",
        "         pred = sig(out)>0.5  # Use the class with highest probability.\n",
        "         #print(out.size())\n",
        "         #print(int((pred == data.y).sum()))\n",
        "         #print(label_classes.size(), \"label\")\n",
        "         #print(pred.size(), \"pred\")\n",
        "         label_classes = label_classes.view(-1)\n",
        "         correct += int((pred.view(-1) == label_classes).sum())\n",
        "         #print(correct)  # Check against ground-truth labels.\n",
        "     return correct / len(loader.dataset)  # Derive ratio of correct predictions.\n",
        "\n",
        "\n",
        "for epoch in range(1, 20):\n",
        "    model.train()\n",
        "\n",
        "    for data, label in train_loader:  # Iterate in batches over the training dataset.\n",
        "         label_classes = label.type(torch.float).cuda() \n",
        "         cur_batch_size = torch.tensor(len(data)).to(device)\n",
        "         data = data.view(cur_batch_size, -1).to(device)\n",
        "         data = data.view(cur_batch_size, 1, 90, 90)\n",
        "         out = model(data.cuda())\n",
        "         out = out.view(-1)\n",
        "         label = label.view(-1).cuda()\n",
        "         #print(label.size(), \"label\")\n",
        "         loss = criterion(out, label.float())  # Compute the loss.\n",
        "         loss.backward()  # Derive gradients.\n",
        "         optimizer.step()  # Update parameters based on gradients.\n",
        "         optimizer.zero_grad()  # Clear gradients.\n",
        "\n",
        "    train_acc = test(train_loader)\n",
        "    test_acc = test(test_loader)\n",
        "    print(f'Epoch: {epoch:03d}, Train Acc: {train_acc:.4f}, Test Acc: {test_acc:.4f}, Loss: {loss:.4f}')"
      ],
      "metadata": {
        "colab": {
          "base_uri": "https://localhost:8080/",
          "height": 300
        },
        "id": "N8n_7mI3te7-",
        "outputId": "9b83755e-0123-4c2f-bdcc-00317c2d7a3a"
      },
      "execution_count": 9,
      "outputs": [
        {
          "output_type": "display_data",
          "data": {
            "text/plain": [
              "<IPython.core.display.Javascript object>"
            ],
            "application/javascript": [
              "google.colab.output.setIframeHeight(0, true, {maxHeight: 300})"
            ]
          },
          "metadata": {}
        },
        {
          "output_type": "stream",
          "name": "stdout",
          "text": [
            "Epoch: 001, Train Acc: 0.5067, Test Acc: 0.5385, Loss: 0.6860\n",
            "Epoch: 002, Train Acc: 0.4933, Test Acc: 0.4615, Loss: 0.7041\n",
            "Epoch: 003, Train Acc: 0.5067, Test Acc: 0.5385, Loss: 0.9058\n",
            "Epoch: 004, Train Acc: 0.5067, Test Acc: 0.5385, Loss: 0.6911\n",
            "Epoch: 005, Train Acc: 0.5067, Test Acc: 0.5385, Loss: 0.6995\n",
            "Epoch: 006, Train Acc: 0.4933, Test Acc: 0.4615, Loss: 0.6912\n",
            "Epoch: 007, Train Acc: 0.4933, Test Acc: 0.4615, Loss: 0.7115\n",
            "Epoch: 008, Train Acc: 0.7400, Test Acc: 0.5385, Loss: 0.6827\n",
            "Epoch: 009, Train Acc: 0.7133, Test Acc: 0.6154, Loss: 0.6597\n",
            "Epoch: 010, Train Acc: 0.7867, Test Acc: 0.6346, Loss: 0.6026\n",
            "Epoch: 011, Train Acc: 0.7867, Test Acc: 0.6731, Loss: 0.7936\n",
            "Epoch: 012, Train Acc: 0.6800, Test Acc: 0.5769, Loss: 0.5302\n",
            "Epoch: 013, Train Acc: 0.8000, Test Acc: 0.6731, Loss: 0.4726\n",
            "Epoch: 014, Train Acc: 0.8200, Test Acc: 0.6538, Loss: 0.3613\n",
            "Epoch: 015, Train Acc: 0.8800, Test Acc: 0.6923, Loss: 0.2391\n",
            "Epoch: 016, Train Acc: 0.9067, Test Acc: 0.6923, Loss: 0.3353\n",
            "Epoch: 017, Train Acc: 0.8933, Test Acc: 0.5962, Loss: 0.1898\n",
            "Epoch: 018, Train Acc: 0.9333, Test Acc: 0.6154, Loss: 0.1058\n",
            "Epoch: 019, Train Acc: 1.0000, Test Acc: 0.6538, Loss: 0.0600\n"
          ]
        }
      ]
    },
    {
      "cell_type": "code",
      "source": [
        ""
      ],
      "metadata": {
        "id": "Rn0gBM3Dtika"
      },
      "execution_count": null,
      "outputs": []
    }
  ]
}